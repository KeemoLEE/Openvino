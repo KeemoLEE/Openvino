{
 "cells": [
  {
   "attachments": {},
   "cell_type": "markdown",
   "id": "291dc37b",
   "metadata": {},
   "source": [
    "# Hello Image Classification\n",
    "\n",
    "This basic introduction to OpenVINO™ shows how to do inference with an image classification model.\n",
    "\n",
    "A pre-trained [MobileNetV3 model](https://github.com/openvinotoolkit/open_model_zoo/blob/master/models/public/mobilenet-v3-small-1.0-224-tf/README.md) from [Open Model Zoo](https://github.com/openvinotoolkit/open_model_zoo/) is used in this tutorial. For more information about how OpenVINO IR models are created, refer to the [TensorFlow to OpenVINO](../tensorflow-classification-to-openvino/tensorflow-classification-to-openvino.ipynb) tutorial.\n",
    "\n",
    "\n",
    "#### Table of contents:\n",
    "\n",
    "- [Imports](#Imports)\n",
    "- [Download the Model and data samples](#Download-the-Model-and-data-samples)\n",
    "- [Select inference device](#Select-inference-device)\n",
    "- [Load the Model](#Load-the-Model)\n",
    "- [Load an Image](#Load-an-Image)\n",
    "- [Do Inference](#Do-Inference)\n",
    "\n",
    "\n",
    "### Installation Instructions\n",
    "\n",
    "This is a self-contained example that relies solely on its own code.\n",
    "\n",
    "We recommend  running the notebook in a virtual environment. You only need a Jupyter server to start.\n",
    "For details, please refer to [Installation Guide](https://github.com/openvinotoolkit/openvino_notebooks/blob/latest/README.md#-installation-guide).\n",
    "\n",
    "<img referrerpolicy=\"no-referrer-when-downgrade\" src=\"https://static.scarf.sh/a.png?x-pxid=5b5a4db0-7875-4bfb-bdbd-01698b5b1a77&file=notebooks/hello-world/hello-world.ipynb\" />\n"
   ]
  },
  {
   "cell_type": "markdown",
   "id": "01d1407b-a718-4629-b42f-76f542c40152",
   "metadata": {},
   "source": [
    "# 필요없는 부분 삭제\n"
   ]
  },
  {
   "attachments": {},
   "cell_type": "markdown",
   "id": "e4c8cbe5",
   "metadata": {},
   "source": [
    "## Imports\n",
    "[back to top ⬆️](#Table-of-contents:)\n"
   ]
  },
  {
   "cell_type": "code",
   "execution_count": 1,
   "id": "41ee9436",
   "metadata": {},
   "outputs": [
    {
     "ename": "ImportError",
     "evalue": "cannot import name 'download_file' from 'notebook_utils' (C:\\BrainAI\\hello-world\\notebook_utils.py)",
     "output_type": "error",
     "traceback": [
      "\u001b[1;31m---------------------------------------------------------------------------\u001b[0m",
      "\u001b[1;31mImportError\u001b[0m                               Traceback (most recent call last)",
      "Cell \u001b[1;32mIn[1], line 7\u001b[0m\n\u001b[0;32m      5\u001b[0m \u001b[38;5;28;01mimport\u001b[39;00m \u001b[38;5;21;01mnumpy\u001b[39;00m \u001b[38;5;28;01mas\u001b[39;00m \u001b[38;5;21;01mnp\u001b[39;00m\n\u001b[0;32m      6\u001b[0m \u001b[38;5;28;01mimport\u001b[39;00m \u001b[38;5;21;01mopenvino\u001b[39;00m \u001b[38;5;28;01mas\u001b[39;00m \u001b[38;5;21;01mov\u001b[39;00m\n\u001b[1;32m----> 7\u001b[0m \u001b[38;5;28;01mfrom\u001b[39;00m \u001b[38;5;21;01mnotebook_utils\u001b[39;00m \u001b[38;5;28;01mimport\u001b[39;00m download_file, device_widget\n",
      "\u001b[1;31mImportError\u001b[0m: cannot import name 'download_file' from 'notebook_utils' (C:\\BrainAI\\hello-world\\notebook_utils.py)"
     ]
    }
   ],
   "source": [
    "from pathlib import Path\n",
    "\n",
    "import cv2\n",
    "import matplotlib.pyplot as plt\n",
    "import numpy as np\n",
    "import openvino as ov\n",
    "from notebook_utils import download_file, device_widget"
   ]
  },
  {
   "attachments": {},
   "cell_type": "markdown",
   "id": "fb4afb34",
   "metadata": {},
   "source": [
    "## Download the Model and data samples\n",
    "[back to top ⬆️](#Table-of-contents:)\n"
   ]
  },
  {
   "cell_type": "code",
   "execution_count": null,
   "id": "99f4b68f",
   "metadata": {},
   "outputs": [],
   "source": [
    "base_artifacts_dir = Path(\"./artifacts\").expanduser()\n",
    "\n",
    "model_name = \"v3-small_224_1.0_float\"\n",
    "model_xml_name = f\"{model_name}.xml\"\n",
    "model_bin_name = f\"{model_name}.bin\"\n",
    "\n",
    "model_xml_path = base_artifacts_dir / model_xml_name\n",
    "\n",
    "base_url = \"https://storage.openvinotoolkit.org/repositories/openvino_notebooks/models/mobelinet-v3-tf/FP32/\"\n",
    "\n",
    "if not model_xml_path.exists():\n",
    "    download_file(base_url + model_xml_name, model_xml_name, base_artifacts_dir)\n",
    "    download_file(base_url + model_bin_name, model_bin_name, base_artifacts_dir)\n",
    "else:\n",
    "    print(f\"{model_name} already downloaded to {base_artifacts_dir}\")"
   ]
  },
  {
   "attachments": {},
   "cell_type": "markdown",
   "id": "5d2cf255-ac39-4656-b742-ec12520f423b",
   "metadata": {},
   "source": [
    "## Select inference device\n",
    "[back to top ⬆️](#Table-of-contents:)\n",
    "\n",
    "select device from dropdown list for running inference using OpenVINO"
   ]
  },
  {
   "cell_type": "code",
   "execution_count": null,
   "id": "66cc2ae5-bbb4-49c7-892b-bfd23343e580",
   "metadata": {
    "tags": [
     "hide-input"
    ]
   },
   "outputs": [],
   "source": [
    "device = device_widget()\n",
    "\n",
    "device"
   ]
  },
  {
   "attachments": {},
   "cell_type": "markdown",
   "id": "55e49ae7",
   "metadata": {},
   "source": [
    "## Load the Model\n",
    "[back to top ⬆️](#Table-of-contents:)\n"
   ]
  },
  {
   "cell_type": "code",
   "execution_count": null,
   "id": "e3c4d6fc",
   "metadata": {},
   "outputs": [],
   "source": [
    "core = ov.Core()\n",
    "model_xml_path=\"./model/v3-small_224_1.0_float\"\n",
    "model = core.read_model(model=model_xml_path)\n",
    "compiled_model = core.compile_model(model=model, device_name=device.value)\n",
    "\n",
    "output_layer = compiled_model.output(0)"
   ]
  },
  {
   "attachments": {},
   "cell_type": "markdown",
   "id": "a19fc080",
   "metadata": {},
   "source": [
    "## Load an Image\n",
    "[back to top ⬆️](#Table-of-contents:)\n"
   ]
  },
  {
   "cell_type": "code",
   "execution_count": null,
   "id": "eca45b68",
   "metadata": {},
   "outputs": [],
   "source": [
    "image_filename=\"./data/coco.jpg\"\n",
    "# The MobileNet model expects images in RGB format.\n",
    "image = cv2.cvtColor(cv2.imread(filename=str(image_filename)), code=cv2.COLOR_BGR2RGB)\n",
    "\n",
    "# Resize to MobileNet image shape.\n",
    "input_image = cv2.resize(src=image, dsize=(224, 224))\n",
    "\n",
    "# Reshape to model input shape.\n",
    "input_image = np.expand_dims(input_image, 0)\n",
    "plt.imshow(image);"
   ]
  },
  {
   "attachments": {},
   "cell_type": "markdown",
   "id": "6be327b6",
   "metadata": {},
   "source": [
    "## Do Inference\n",
    "[back to top ⬆️](#Table-of-contents:)\n"
   ]
  },
  {
   "cell_type": "code",
   "execution_count": null,
   "id": "1ed78a71",
   "metadata": {},
   "outputs": [],
   "source": [
    "result_infer = compiled_model([input_image])[output_layer]\n",
    "result_index = np.argmax(result_infer)"
   ]
  },
  {
   "cell_type": "code",
   "execution_count": null,
   "id": "e0c3c3fa",
   "metadata": {},
   "outputs": [],
   "source": [
    "form pathlib import Path\n",
    "imagenet_filename=Path('./data/imagenet_2012.txt')\n",
    "print(imagenet_filename)\n",
    "imagenet_classes = imagenet_filename.read_text().splitlines()"
   ]
  },
  {
   "cell_type": "code",
   "execution_count": null,
   "id": "bf29578c",
   "metadata": {
    "tags": []
   },
   "outputs": [],
   "source": [
    "# The model description states that for this model, class 0 is a background.\n",
    "# Therefore, a background must be added at the beginning of imagenet_classes.\n",
    "imagenet_classes = [\"background\"] + imagenet_classes\n",
    "\n",
    "imagenet_classes[result_index]"
   ]
  }
 ],
 "metadata": {
  "interpreter": {
   "hash": "cd5437b16fd5f67deabdf7e7132d444cc39310b7a33353e3b68dab8f7e829ac5"
  },
  "kernelspec": {
   "display_name": "Python 3 (ipykernel)",
   "language": "python",
   "name": "python3"
  },
  "language_info": {
   "codemirror_mode": {
    "name": "ipython",
    "version": 3
   },
   "file_extension": ".py",
   "mimetype": "text/x-python",
   "name": "python",
   "nbconvert_exporter": "python",
   "pygments_lexer": "ipython3",
   "version": "3.11.8"
  },
  "openvino_notebooks": {
   "imageUrl": "https://user-images.githubusercontent.com/36741649/127172572-1cdab941-df5f-42e2-a367-2b334a3db6d8.jpg",
   "tags": {
    "categories": [
     "First Steps"
    ],
    "libraries": [],
    "other": [],
    "tasks": [
     "Image Classification"
    ]
   }
  },
  "widgets": {
   "application/vnd.jupyter.widget-state+json": {
    "state": {},
    "version_major": 2,
    "version_minor": 0
   }
  }
 },
 "nbformat": 4,
 "nbformat_minor": 5
}
